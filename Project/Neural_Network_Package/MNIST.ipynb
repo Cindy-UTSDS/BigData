{
 "cells": [
  {
   "cell_type": "code",
   "execution_count": 57,
   "metadata": {
    "collapsed": true
   },
   "outputs": [],
   "source": [
    "import processdata\n",
    "import nnet\n",
    "import numpy as np\n",
    "import matplotlib.pyplot as plt\n",
    "from sklearn.preprocessing import normalize"
   ]
  },
  {
   "cell_type": "code",
   "execution_count": 58,
   "metadata": {
    "collapsed": true
   },
   "outputs": [],
   "source": [
    "X,Y,X_test,Y_test = processdata.datapre()"
   ]
  },
  {
   "cell_type": "code",
   "execution_count": 98,
   "metadata": {
    "collapsed": true
   },
   "outputs": [],
   "source": [
    "# four layers with batch size  =  dataset size\n",
    "n,m = X.shape\n",
    "W1 = np.random.normal(size=(m,128))\n",
    "B1 = np.random.normal(size=(128,))\n",
    "W2 = np.random.normal(size=(128,64))\n",
    "B2 = np.random.normal(size=(64,))\n",
    "W3 = np.random.normal(size=(64,10))\n",
    "B3 = np.random.normal(size=(10,))\n",
    "\n",
    "\n",
    "weight =[W1,W2,W3]\n",
    "bias   = [B1,B2,B3]\n",
    "cursor = 0\n",
    "num_steps = 3000\n",
    "batch_size = 60000"
   ]
  },
  {
   "cell_type": "code",
   "execution_count": 99,
   "metadata": {},
   "outputs": [
    {
     "name": "stdout",
     "output_type": "stream",
     "text": [
      "22.5473400066\n"
     ]
    }
   ],
   "source": [
    "loss_list = []\n",
    "for i in range(num_steps):\n",
    "    x,y = nnet.feed(X,Y,batch_size,cursor = 0)\n",
    "    los, weight,bias = nnet.Neural_network(X,Y,weight,bias,0.5,1)\n",
    "    loss_list.append(los)\n",
    "    \n",
    "    #Neural_network(X,y,weight,bias,step_size, activation) , change activation to 0 for sigmoid or go to source code to creat\n",
    "    ## a combination "
   ]
  },
  {
   "cell_type": "code",
   "execution_count": 26,
   "metadata": {},
   "outputs": [
    {
     "data": {
      "image/png": "[encoded data removed]",
      "text/plain": [
       "<matplotlib.figure.Figure at 0x28bd56e3278>"
      ]
     },
     "metadata": {},
     "output_type": "display_data"
    }
   ],
   "source": [
    "plt.plot(loss_list)\n",
    "plt.show()"
   ]
  },
  {
   "cell_type": "code",
   "execution_count": 37,
   "metadata": {},
   "outputs": [
    {
     "data": {
      "text/plain": [
       "0.19764767366767813"
      ]
     },
     "execution_count": 37,
     "metadata": {},
     "output_type": "execute_result"
    }
   ],
   "source": [
    "loss_list[-1]"
   ]
  },
  {
   "cell_type": "code",
   "execution_count": 51,
   "metadata": {},
   "outputs": [
    {
     "name": "stderr",
     "output_type": "stream",
     "text": [
      "C:\\Users\\ashut\\Desktop\\work\\python\\SDS 385\\Final_Project\\Final_Code\\nnet.py:40: RuntimeWarning: overflow encountered in exp\n",
      "  z = np.exp(i)\n",
      "C:\\Users\\ashut\\Desktop\\work\\python\\SDS 385\\Final_Project\\Final_Code\\nnet.py:41: RuntimeWarning: invalid value encountered in true_divide\n",
      "  p = z/(1+ np.sum(z))\n"
     ]
    }
   ],
   "source": [
    "\n",
    "W1 = weight[0]\n",
    "B1 = bias[0]\n",
    "W2 = weight[1]\n",
    "B2 = bias[1]\n",
    "W3 = weight[2]\n",
    "B3 = bias[2]\n",
    "\n",
    "Z1_t = np.matmul(X,weight[0]) +bias[0]\n",
    "Z1 = 10*normalize(Z1_t, axis = 1, norm = 'max')\n",
    "\n",
    "A1 = np.maximum(Z1,0)\n",
    "\n",
    "Z2_t = np.matmul(A1,weight[1]) +bias[1]\n",
    "Z2 = 10*normalize(Z2_t, axis = 1, norm = 'max')\n",
    "\n",
    "A2 = np.maximum(Z2,0)\n",
    "\n",
    "Z3 = np.matmul(A2,weight[2]) +bias[2]\n",
    "\n",
    "\n",
    "A3 = nnet.activation_sigmoid(Z3)"
   ]
  },
  {
   "cell_type": "code",
   "execution_count": 56,
   "metadata": {},
   "outputs": [
    {
     "name": "stdout",
     "output_type": "stream",
     "text": [
      "training set accuracy is  99.225\n"
     ]
    }
   ],
   "source": [
    "ll = 0\n",
    "for i in range(len(Y)):\n",
    "    if np.argmax(A3[i]) == np.argmax(Y[i]):\n",
    "        ll +=1\n",
    "print(\"training set accuracy is \", (ll*100)/batch_size)"
   ]
  },
  {
   "cell_type": "code",
   "execution_count": 100,
   "metadata": {
    "collapsed": true
   },
   "outputs": [],
   "source": [
    "# 2 layers with complete batch size\n",
    "\n",
    "n,m = X.shape\n",
    "W1 = np.random.normal(size=(m,64))\n",
    "B1 = np.random.normal(size=(64,))\n",
    "W2 = np.random.normal(size=(64,10))\n",
    "B2 = np.random.normal(size=(10,))\n",
    "\n",
    "\n",
    "\n",
    "weight =[W1,W2]\n",
    "bias   = [B1,B2]\n",
    "cursor = 0\n",
    "num_steps = 3000\n",
    "batch_size = 60000"
   ]
  },
  {
   "cell_type": "code",
   "execution_count": 101,
   "metadata": {},
   "outputs": [
    {
     "name": "stdout",
     "output_type": "stream",
     "text": [
      "22.8696924237\n"
     ]
    }
   ],
   "source": [
    "loss_list = []\n",
    "for i in range(num_steps):\n",
    "    x,y = nnet.feed(X,Y,batch_size,cursor = 0)\n",
    "    los, weight,bias = nnet.Neural_network(X,Y,weight,bias,0.05,1)\n",
    "    loss_list.append(los)\n",
    "    "
   ]
  },
  {
   "cell_type": "code",
   "execution_count": 63,
   "metadata": {},
   "outputs": [
    {
     "data": {
      "image/png": "[encoded data removed]",
      "text/plain": [
       "<matplotlib.figure.Figure at 0x28bd571ffd0>"
      ]
     },
     "metadata": {},
     "output_type": "display_data"
    }
   ],
   "source": [
    "plt.plot(loss_list)\n",
    "plt.show()"
   ]
  },
  {
   "cell_type": "code",
   "execution_count": 64,
   "metadata": {
    "collapsed": true
   },
   "outputs": [],
   "source": [
    "W1 = weight[0]\n",
    "B1 = bias[0]\n",
    "W2 = weight[1]\n",
    "B2 = bias[1]\n",
    "\n",
    "\n",
    "Z1_t = np.matmul(X,weight[0]) +bias[0]\n",
    "Z1 = 10*normalize(Z1_t, axis = 1, norm = 'max')\n",
    "\n",
    "A1 = np.maximum(Z1,0)\n",
    "\n",
    "Z2 = np.matmul(A1,weight[1]) +bias[1]\n",
    "\n",
    "\n",
    "A2 = nnet.activation_sigmoid(Z2)"
   ]
  },
  {
   "cell_type": "code",
   "execution_count": 66,
   "metadata": {},
   "outputs": [
    {
     "name": "stdout",
     "output_type": "stream",
     "text": [
      "training set accuracy is  97.895\n"
     ]
    }
   ],
   "source": [
    "ll = 0\n",
    "for i in range(len(Y)):\n",
    "    if np.argmax(A2[i]) == np.argmax(Y[i]):\n",
    "        ll +=1\n",
    "print(\"training set accuracy is \", (ll*100)/batch_size)"
   ]
  },
  {
   "cell_type": "code",
   "execution_count": 102,
   "metadata": {
    "collapsed": true
   },
   "outputs": [],
   "source": [
    "## 4 layers with complete dataset\n",
    "\n",
    "n,m = X.shape\n",
    "W1 = np.random.normal(size=(m,128))\n",
    "B1 = np.random.normal(size=(128,))\n",
    "W2 = np.random.normal(size=(128,64))\n",
    "B2 = np.random.normal(size=(64,))\n",
    "W3 = np.random.normal(size=(64,32))\n",
    "B3 = np.random.normal(size=(32,))\n",
    "W4 = np.random.normal(size=(32,10))\n",
    "B4 = np.random.normal(size=(10,))\n",
    "\n",
    "weight =[W1,W2,W3,W4]\n",
    "bias   = [B1,B2,B3,B4]\n",
    "cursor = 0\n",
    "num_steps = 3000\n",
    "batch_size = 60000"
   ]
  },
  {
   "cell_type": "code",
   "execution_count": 103,
   "metadata": {},
   "outputs": [
    {
     "name": "stdout",
     "output_type": "stream",
     "text": [
      "20.0965084847\n"
     ]
    }
   ],
   "source": [
    "loss_list = []\n",
    "for i in range(num_steps):\n",
    "    x,y = nnet.feed(X,Y,batch_size,cursor = 0)\n",
    "    los, weight,bias = nnet.Neural_network(X,Y,weight,bias,0.5,1)\n",
    "    loss_list.append(los)\n",
    "    "
   ]
  },
  {
   "cell_type": "code",
   "execution_count": 81,
   "metadata": {},
   "outputs": [
    {
     "data": {
      "image/png": "[encoded data removed]",
      "text/plain": [
       "<matplotlib.figure.Figure at 0x28b3bf7e160>"
      ]
     },
     "metadata": {},
     "output_type": "display_data"
    }
   ],
   "source": [
    "plt.plot(loss_list)\n",
    "plt.show()"
   ]
  },
  {
   "cell_type": "code",
   "execution_count": 82,
   "metadata": {},
   "outputs": [
    {
     "data": {
      "text/plain": [
       "0.65067567629612477"
      ]
     },
     "execution_count": 82,
     "metadata": {},
     "output_type": "execute_result"
    }
   ],
   "source": [
    "loss_list[-1]"
   ]
  },
  {
   "cell_type": "code",
   "execution_count": 84,
   "metadata": {
    "collapsed": true
   },
   "outputs": [],
   "source": [
    "W1 = weight[0]\n",
    "B1 = bias[0]\n",
    "W2 = weight[1]\n",
    "B2 = bias[1]\n",
    "W3 = weight[2]\n",
    "B3 = bias[2]\n",
    "\n",
    "Z1_t = np.matmul(X,weight[0]) +bias[0]\n",
    "Z1 = 10*normalize(Z1_t, axis = 1, norm = 'max')\n",
    "\n",
    "A1 = np.maximum(Z1,0)\n",
    "\n",
    "Z2_t = np.matmul(A1,weight[1]) +bias[1]\n",
    "Z2 = 10*normalize(Z2_t, axis = 1, norm = 'max')\n",
    "\n",
    "A2 = np.maximum(Z2,0)\n",
    "\n",
    "Z3_t = np.matmul(A2,weight[2]) +bias[2]\n",
    "Z3 = 10*normalize(Z3_t, axis = 1, norm = 'max')\n",
    "A3 = np.maximum(Z3,0)\n",
    "\n",
    "\n",
    "Z4 = np.matmul(A3,weight[3]) +bias[3]\n",
    "A4 = nnet.activation_sigmoid(Z4)"
   ]
  },
  {
   "cell_type": "code",
   "execution_count": 85,
   "metadata": {},
   "outputs": [
    {
     "name": "stdout",
     "output_type": "stream",
     "text": [
      "training set accuracy is  96.92\n"
     ]
    }
   ],
   "source": [
    "ll = 0\n",
    "for i in range(len(Y)):\n",
    "    if np.argmax(A4[i]) == np.argmax(Y[i]):\n",
    "        ll +=1\n",
    "print(\"training set accuracy is \", (ll*100)/batch_size)"
   ]
  },
  {
   "cell_type": "code",
   "execution_count": 104,
   "metadata": {
    "collapsed": true
   },
   "outputs": [],
   "source": [
    "## 2 layers with batch gradient descent, size = 250\n",
    "n,m = X.shape\n",
    "W1 = np.random.normal(size=(m,64))\n",
    "B1 = np.random.normal(size=(64,))\n",
    "W2 = np.random.normal(size=(64,10))\n",
    "B2 = np.random.normal(size=(10,))\n",
    "\n",
    "\n",
    "\n",
    "weight =[W1,W2]\n",
    "bias   = [B1,B2]\n",
    "cursor = 0\n",
    "num_steps = 3000\n",
    "batch_size = 250"
   ]
  },
  {
   "cell_type": "code",
   "execution_count": 105,
   "metadata": {},
   "outputs": [
    {
     "name": "stdout",
     "output_type": "stream",
     "text": [
      "20.7547042509\n"
     ]
    }
   ],
   "source": [
    "loss_list = []\n",
    "for i in range(num_steps):\n",
    "    x,y = nnet.feed(X,Y,batch_size,cursor = 0)\n",
    "    los, weight,bias = nnet.Neural_network(X,Y,weight,bias,0.5,1)\n",
    "    loss_list.append(los)"
   ]
  },
  {
   "cell_type": "code",
   "execution_count": 92,
   "metadata": {},
   "outputs": [
    {
     "data": {
      "image/png": "[encoded data removed]",
      "text/plain": [
       "<matplotlib.figure.Figure at 0x28b007f64a8>"
      ]
     },
     "metadata": {},
     "output_type": "display_data"
    }
   ],
   "source": [
    "plt.plot(loss_list)\n",
    "plt.show()"
   ]
  },
  {
   "cell_type": "code",
   "execution_count": 93,
   "metadata": {},
   "outputs": [
    {
     "data": {
      "text/plain": [
       "0.93559002150712944"
      ]
     },
     "execution_count": 93,
     "metadata": {},
     "output_type": "execute_result"
    }
   ],
   "source": [
    "loss_list[-1]\n"
   ]
  },
  {
   "cell_type": "code",
   "execution_count": 106,
   "metadata": {
    "collapsed": true
   },
   "outputs": [],
   "source": [
    "## 2 layers with batch gradient descent, size = 1000\n",
    "\n",
    "n,m = X.shape\n",
    "W1 = np.random.normal(size=(m,64))\n",
    "B1 = np.random.normal(size=(64,))\n",
    "W2 = np.random.normal(size=(64,10))\n",
    "B2 = np.random.normal(size=(10,))\n",
    "\n",
    "\n",
    "\n",
    "weight =[W1,W2]\n",
    "bias   = [B1,B2]\n",
    "cursor = 0\n",
    "num_steps = 3000\n",
    "batch_size = 1000"
   ]
  },
  {
   "cell_type": "code",
   "execution_count": 107,
   "metadata": {},
   "outputs": [
    {
     "name": "stdout",
     "output_type": "stream",
     "text": [
      "21.4081545372\n"
     ]
    }
   ],
   "source": [
    "loss_list = []\n",
    "for i in range(num_steps):\n",
    "    x,y = nnet.feed(X,Y,batch_size,cursor = 0)\n",
    "    los, weight,bias = nnet.Neural_network(X,Y,weight,bias,0.5,1)\n",
    "    loss_list.append(los)"
   ]
  },
  {
   "cell_type": "code",
   "execution_count": 96,
   "metadata": {},
   "outputs": [
    {
     "data": {
      "image/png": "[encoded data removed]",
      "text/plain": [
       "<matplotlib.figure.Figure at 0x28b00807eb8>"
      ]
     },
     "metadata": {},
     "output_type": "display_data"
    }
   ],
   "source": [
    "plt.plot(loss_list)\n",
    "plt.show()"
   ]
  },
  {
   "cell_type": "code",
   "execution_count": null,
   "metadata": {
    "collapsed": true
   },
   "outputs": [],
   "source": []
  }
 ],
 "metadata": {
  "kernelspec": {
   "display_name": "Python 3",
   "language": "python",
   "name": "python3"
  },
  "language_info": {
   "codemirror_mode": {
    "name": "ipython",
    "version": 3
   },
   "file_extension": ".py",
   "mimetype": "text/x-python",
   "name": "python",
   "nbconvert_exporter": "python",
   "pygments_lexer": "ipython3",
   "version": "3.6.1"
  }
 },
 "nbformat": 4,
 "nbformat_minor": 2
}
