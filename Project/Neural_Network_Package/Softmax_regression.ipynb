{
 "cells": [
  {
   "cell_type": "code",
   "execution_count": 33,
   "metadata": {
    "collapsed": true
   },
   "outputs": [],
   "source": [
    "import processdata\n",
    "import nnet\n",
    "import numpy as np\n",
    "import matplotlib.pyplot as plt"
   ]
  },
  {
   "cell_type": "code",
   "execution_count": 34,
   "metadata": {
    "collapsed": true
   },
   "outputs": [],
   "source": [
    "X,Y,X_test,Y_test = processdata.datapre()"
   ]
  },
  {
   "cell_type": "code",
   "execution_count": 26,
   "metadata": {
    "collapsed": true
   },
   "outputs": [],
   "source": [
    "n,m = X.shape\n",
    "W = np.random.normal(size=(m,10))\n",
    "num_steps = 1\n",
    "batch_size = 60000\n",
    "step_size = 0.5"
   ]
  },
  {
   "cell_type": "code",
   "execution_count": 27,
   "metadata": {
    "collapsed": true
   },
   "outputs": [],
   "source": [
    "# Gradient Descent for Softmax Regression\n",
    "loss_list = []\n",
    "for i in range(num_steps):\n",
    "    x,y = nnet.feed(X,Y,batch_size,cursor = 0)\n",
    "    logi = x.dot(W)\n",
    "    w = nnet.activation_sigmoid(logi)\n",
    "    los = nnet.loss(y,w, loss = 0)\n",
    "    loss_list.append(los)\n",
    "    grad = ((x.T.dot(w-y))/len(x) ) \n",
    "    W += -(step_size * grad)\n",
    "    "
   ]
  },
  {
   "cell_type": "code",
   "execution_count": 28,
   "metadata": {},
   "outputs": [
    {
     "data": {
      "image/png": "[encoded data removed]",
      "text/plain": [
       "<matplotlib.figure.Figure at 0x19200068780>"
      ]
     },
     "metadata": {},
     "output_type": "display_data"
    }
   ],
   "source": [
    "plt.plot(loss_list)\n",
    "plt.show()"
   ]
  },
  {
   "cell_type": "code",
   "execution_count": 29,
   "metadata": {},
   "outputs": [
    {
     "data": {
      "text/plain": [
       "0.54613739813110429"
      ]
     },
     "execution_count": 29,
     "metadata": {},
     "output_type": "execute_result"
    }
   ],
   "source": [
    "loss_list[-1]"
   ]
  },
  {
   "cell_type": "code",
   "execution_count": 32,
   "metadata": {},
   "outputs": [
    {
     "name": "stdout",
     "output_type": "stream",
     "text": [
      "training set accuracy is  90.22833333333334\n"
     ]
    }
   ],
   "source": [
    "ll = 0\n",
    "for i in range(len(Y)):\n",
    "    if np.argmax(w[i]) == np.argmax(Y[i]):\n",
    "        ll +=1\n",
    "print(\"training set accuracy is \", (ll*100)/batch_size)\n",
    "        "
   ]
  }
 ],
 "metadata": {
  "kernelspec": {
   "display_name": "Python 3",
   "language": "python",
   "name": "python3"
  },
  "language_info": {
   "codemirror_mode": {
    "name": "ipython",
    "version": 3
   },
   "file_extension": ".py",
   "mimetype": "text/x-python",
   "name": "python",
   "nbconvert_exporter": "python",
   "pygments_lexer": "ipython3",
   "version": "3.6.1"
  }
 },
 "nbformat": 4,
 "nbformat_minor": 2
}
