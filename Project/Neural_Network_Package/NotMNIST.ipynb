{
 "cells": [
  {
   "cell_type": "code",
   "execution_count": 52,
   "metadata": {
    "collapsed": true
   },
   "outputs": [],
   "source": [
    "import numpy as np\n",
    "import nnet\n",
    "import pandas as pd\n",
    "import matplotlib.pyplot as plt\n",
    "from sklearn.preprocessing import normalize\n"
   ]
  },
  {
   "cell_type": "code",
   "execution_count": 32,
   "metadata": {
    "collapsed": true
   },
   "outputs": [],
   "source": [
    "X = np.load('X.npy')\n",
    "Y = np.load('Y.npy')\n",
    "X_test = np.load('X_test.npy')\n",
    "Y_test = np.load('Y_test.npy')"
   ]
  },
  {
   "cell_type": "code",
   "execution_count": 56,
   "metadata": {
    "collapsed": true
   },
   "outputs": [],
   "source": [
    "## Using the program to fit the notMNIST dataset\n",
    "n,m = X.shape\n",
    "W1 = np.random.normal(size=(m,128))\n",
    "B1 = np.random.normal(size=(128,))\n",
    "W2 = np.random.normal(size=(128,64))\n",
    "B2 = np.random.normal(size=(64,))\n",
    "W3 = np.random.normal(size=(64,10))\n",
    "B3 = np.random.normal(size=(10,))\n",
    "\n",
    "\n",
    "weight =[W1,W2,W3]\n",
    "bias   = [B1,B2,B3]\n",
    "cursor = 0\n",
    "num_steps = 3000\n",
    "batch_size = 200"
   ]
  },
  {
   "cell_type": "code",
   "execution_count": 57,
   "metadata": {},
   "outputs": [
    {
     "name": "stdout",
     "output_type": "stream",
     "text": [
      "21.2409093842\n"
     ]
    }
   ],
   "source": [
    "loss_list = []\n",
    "for i in range(num_steps):\n",
    "    x,y = nnet.feed(X,Y,batch_size,cursor = 0)\n",
    "    los, weight,bias = nnet.Neural_network(X,Y,weight,bias,0.0005,1)\n",
    "    loss_list.append(los)"
   ]
  },
  {
   "cell_type": "code",
   "execution_count": 49,
   "metadata": {},
   "outputs": [
    {
     "data": {
      "image/png": "[encoded data removed]",
      "text/plain": [
       "<matplotlib.figure.Figure at 0x28c01fde0f0>"
      ]
     },
     "metadata": {},
     "output_type": "display_data"
    }
   ],
   "source": [
    "plt.plot(loss_list)\n",
    "plt.show()"
   ]
  },
  {
   "cell_type": "code",
   "execution_count": 50,
   "metadata": {},
   "outputs": [
    {
     "data": {
      "text/plain": [
       "5.7925422941986602"
      ]
     },
     "execution_count": 50,
     "metadata": {},
     "output_type": "execute_result"
    }
   ],
   "source": [
    "loss_list[-1]"
   ]
  },
  {
   "cell_type": "code",
   "execution_count": 53,
   "metadata": {},
   "outputs": [
    {
     "name": "stderr",
     "output_type": "stream",
     "text": [
      "C:\\Users\\ashut\\Desktop\\work\\python\\SDS 385\\Final_Project\\Final_Code\\nnet.py:40: RuntimeWarning: overflow encountered in exp\n",
      "  z = np.exp(i)\n",
      "C:\\Users\\ashut\\Desktop\\work\\python\\SDS 385\\Final_Project\\Final_Code\\nnet.py:41: RuntimeWarning: invalid value encountered in true_divide\n",
      "  p = z/(1+ np.sum(z))\n"
     ]
    }
   ],
   "source": [
    "W1 = weight[0]\n",
    "B1 = bias[0]\n",
    "W2 = weight[1]\n",
    "B2 = bias[1]\n",
    "W3 = weight[2]\n",
    "B3 = bias[2]\n",
    "\n",
    "Z1_t = np.matmul(X,weight[0]) +bias[0]\n",
    "Z1 = 10*normalize(Z1_t, axis = 1, norm = 'max')\n",
    "\n",
    "A1 = np.maximum(Z1,0)\n",
    "\n",
    "Z2_t = np.matmul(A1,weight[1]) +bias[1]\n",
    "Z2 = 10*normalize(Z2_t, axis = 1, norm = 'max')\n",
    "\n",
    "A2 = np.maximum(Z2,0)\n",
    "\n",
    "Z3_t = np.matmul(A2,weight[2]) +bias[2]\n",
    "Z3 = 10*normalize(Z3_t, axis = 1, norm = 'max')\n",
    "\n",
    "A3 = nnet.activation_sigmoid(Z3)"
   ]
  },
  {
   "cell_type": "code",
   "execution_count": 55,
   "metadata": {},
   "outputs": [
    {
     "name": "stdout",
     "output_type": "stream",
     "text": [
      "training set accuracy is  69.964\n"
     ]
    }
   ],
   "source": [
    "ll = 0\n",
    "for i in range(len(Y)):\n",
    "    if np.argmax(A3[i]) == np.argmax(Y[i]):\n",
    "        ll +=1\n",
    "print(\"training set accuracy is \", (ll*100)/len(Y))"
   ]
  },
  {
   "cell_type": "code",
   "execution_count": null,
   "metadata": {
    "collapsed": true
   },
   "outputs": [],
   "source": []
  }
 ],
 "metadata": {
  "kernelspec": {
   "display_name": "Python 3",
   "language": "python",
   "name": "python3"
  },
  "language_info": {
   "codemirror_mode": {
    "name": "ipython",
    "version": 3
   },
   "file_extension": ".py",
   "mimetype": "text/x-python",
   "name": "python",
   "nbconvert_exporter": "python",
   "pygments_lexer": "ipython3",
   "version": "3.6.1"
  }
 },
 "nbformat": 4,
 "nbformat_minor": 2
}
